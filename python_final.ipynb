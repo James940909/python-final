{
  "nbformat": 4,
  "nbformat_minor": 0,
  "metadata": {
    "colab": {
      "name": "python-final.ipynb",
      "provenance": [],
      "collapsed_sections": [],
      "authorship_tag": "ABX9TyN+p7D5+Z6RQFhPA1h5YzKw",
      "include_colab_link": true
    },
    "kernelspec": {
      "name": "python3",
      "display_name": "Python 3"
    },
    "language_info": {
      "name": "python"
    }
  },
  "cells": [
    {
      "cell_type": "markdown",
      "metadata": {
        "id": "view-in-github",
        "colab_type": "text"
      },
      "source": [
        "<a href=\"https://colab.research.google.com/github/ykkim77/python-final/blob/main/python_final.ipynb\" target=\"_parent\"><img src=\"https://colab.research.google.com/assets/colab-badge.svg\" alt=\"Open In Colab\"/></a>"
      ]
    },
    {
      "cell_type": "markdown",
      "metadata": {
        "id": "TQggtlLF-huA"
      },
      "source": [
        "# **파이썬 프로그래밍 기말고사**\n",
        "\n"
      ]
    },
    {
      "cell_type": "markdown",
      "metadata": {
        "id": "OtG7xx1d_S9S"
      },
      "source": [
        "기말 고사 유의 사항\n",
        "\n",
        "1. 문제의 답안을 함수로 작성하되, 반드시 함수 이름은 문제에서 제시하는 함수명으로 할것 (답안은 함수만 정의해서 제출해도 됨)\n",
        "1. 함수에는 함수의 매개변수 입력과 반환이 반드시 있어야 함\n",
        "1. 코드 작성이 끝난 파일은 개별적으로 함수를 호출해서 검수를 거쳐 정답이 맞는지 확인할 것\n",
        "1. 작성된 답안은 상단 메뉴의 파일--> 다운로드 --> .py 로 다운 받아 학교 LMS 에 제출할 것\n",
        "1. .py 가 학교 LMS 에 올라가지 않을경우 ZIP으로 압축하여 업로드 가능\n",
        "1. 파일의 이름은 자신의 학번.py      예) 학번이 2021111000 일 경우,     2021111000.py 파일을 제출\n",
        "1. 코드는 자동 채점이 되며, 코드의 유사도 검증을 통해 코드가 타 학생과 유사도가 높을 경우 감점 (절대로 문제의 답안을 타 학생과 공유 금지)"
      ]
    },
    {
      "cell_type": "markdown",
      "metadata": {
        "id": "G8s27iEOeMOd"
      },
      "source": [
        "# 문제 1)"
      ]
    },
    {
      "cell_type": "markdown",
      "metadata": {
        "id": "lhpvyiXLeu-1"
      },
      "source": [
        "\n",
        "<strong>* 하나의 정수를 함수의 입력으로 받아, 이 정수가 홀수 인지 짝수 인지를 판별하여 짝수이면 \"짝\", 홀수 이면 \"홀\"이라는 문자열을 반환하는 함수를 작성하시오</strong>\n",
        "\n",
        "\n",
        "* 예1) \n",
        " * 입력(정수) : 2 <br>\n",
        " * 반환(문자열) : \"짝\"\n",
        "\n",
        "\n",
        "* 예2)\n",
        " * 입력(정수): 3 <br>\n",
        " * 반환(문자열): \"홀\"\n",
        "\n",
        "\n",
        "\n",
        "\n",
        "* 함수 이름: exam1<br>      (반드시 함수 이름을 exam1로 작성할것!!)\n",
        "\n",
        "* 함수 작성 힌트 <br>\n",
        "\n",
        "\n",
        "\n",
        "```\n",
        "def exam1(a):\n",
        "    b = a가 짝수라면 \"짝\"이라는 문자열을 대입\n",
        "    return b\n",
        "```"
      ]
    },
    {
      "cell_type": "code",
      "metadata": {
        "id": "cb4AtnIZIGyA"
      },
      "source": [
        "###### 1번 문제 답안 작성\n",
        "\n"
      ],
      "execution_count": null,
      "outputs": []
    },
    {
      "cell_type": "markdown",
      "metadata": {
        "id": "X1GukuNA-vPR"
      },
      "source": [
        "## 문제 2)"
      ]
    },
    {
      "cell_type": "markdown",
      "metadata": {
        "id": "kK4fr_Gm5oCl"
      },
      "source": [
        "<strong> * 하나의 리스트를 함수의 매개변수 입력으로 넣으면, 리스트안의 중복을 제거한 다음 중복 제거된 리스트를 반환하는 함수를 작성하세요.</strong>\n",
        "\n",
        "* 예1) \n",
        " * 입력(리스트) : [1,2,1,1,1] <br>\n",
        " * 반환(리스트) : [1,2]\n",
        "\n",
        "\n",
        "* 예2)\n",
        "\n",
        " * 입력(리스트): [3,3,4,5] <br>\n",
        " * 반환(리스트): [3,4,5]\n",
        "\n",
        "\n",
        "\n",
        "\n",
        "* 함수 이름: exam2 <br>      (반드시 함수 이름을 exam2로 작성할것!!)\n",
        "\n",
        "* 함수 작성 힌트 <br>\n",
        "\n",
        "\n",
        "\n",
        "```\n",
        "def exam2(a):\n",
        "    b = a리스트의 중복제거한 리스트\n",
        "    return b\n",
        "```\n",
        "\n",
        "\n",
        "\n"
      ]
    },
    {
      "cell_type": "code",
      "metadata": {
        "id": "kX9xY63-5j5p"
      },
      "source": [
        "#### 2번 문제 답안 작성\n",
        "\n",
        "\n"
      ],
      "execution_count": null,
      "outputs": []
    },
    {
      "cell_type": "markdown",
      "metadata": {
        "id": "EnqoaId9BzIm"
      },
      "source": [
        "## 문제 3)"
      ]
    },
    {
      "cell_type": "markdown",
      "metadata": {
        "id": "smtRGTyPBqxk"
      },
      "source": [
        "<strong> 2부터 9까지의 숫자중 하나를 함수의 매개변수 입력으로 넣으면, 구구단의 결과를 리스트로 반환하는 함수를 작성하시오</strong> \n",
        "\n",
        "* 예1)\n",
        "\n",
        "  * 입력(정수) : 2\n",
        "  * 반환(리스트) : [2,4,6,8,10,12,14,16,18]\n",
        "\n",
        "* 예2)\n",
        "\n",
        " * 입력(정수): 3\n",
        " * 반환(리스트): [3,6,9,12,15,18,21,24,27]\n",
        "\n",
        "* 함수 이름: exam3\n",
        "(반드시 함수 이름을 exam3로 작성할것!!)\n",
        "\n",
        "* 함수 작성 힌트\n",
        "\n",
        "\n",
        "\n",
        "```\n",
        "def exam3(a):\n",
        "    b = a단에 대한 구구단 결과 리스트\n",
        "    return b\n",
        "```\n",
        "\n"
      ]
    },
    {
      "cell_type": "code",
      "metadata": {
        "id": "FS8nRvcNG8QR"
      },
      "source": [
        "#### 3번 문제 답안 작성\n",
        "\n"
      ],
      "execution_count": null,
      "outputs": []
    },
    {
      "cell_type": "markdown",
      "metadata": {
        "id": "8uQNXmPWHHGN"
      },
      "source": [
        "## 문제 4)"
      ]
    },
    {
      "cell_type": "markdown",
      "metadata": {
        "id": "PLsesGlrHyvc"
      },
      "source": [
        "<strong>다음 데이터를 함수 내에 딕셔너리 형태로 저장한 다음, 함수의 매개변수 입력으로 딕셔너리의 키에 해당하는 문자열을 받으면, 키에 해당하는 값을 반환하는 함수를 작성하시오. </strong>\n",
        "\n",
        "함수내 저장해야하는 데이터\n",
        "\n",
        "```\n",
        "phones = {\"S5\": 2014, \"S7\": 2016, \"note8\": 2017, \"S9\": 2018, \"S10\": 2019}\n",
        "```\n",
        "\n",
        "* 예1)<br>\n",
        "\n",
        " * 입력(문자열) : \"S5\"<br>\n",
        " * 반환(정수) : 2014<br>\n",
        "\n",
        "* 예2)<br>\n",
        "\n",
        " * 입력(문자열) : \"S7\"<br>\n",
        " * 반환(정수) : 2016<br>\n",
        "\n",
        "* 함수 이름: exam4  <br>\n",
        "(반드시 함수 이름을 exam4로 작성할것!!)<br>\n",
        "\n",
        "* 함수 작성 힌트\n",
        "\n",
        "```\n",
        "def exam4(a):\n",
        "    b = a의 키(key)값에 해당하는 값(value)\n",
        "    return b\n",
        "```"
      ]
    },
    {
      "cell_type": "code",
      "metadata": {
        "id": "71qGTeWEW14L"
      },
      "source": [
        "#### 4번 문제 답안 작성\n"
      ],
      "execution_count": null,
      "outputs": []
    },
    {
      "cell_type": "markdown",
      "metadata": {
        "id": "ApVnFiekZWbv"
      },
      "source": [
        "## 문제5)"
      ]
    },
    {
      "cell_type": "markdown",
      "metadata": {
        "id": "AOx7f5T9ZzH8"
      },
      "source": [
        "<strong>주민등록번호 13자리를 문자열로 입력 받아, 받은 주민번호를 기반으로 남성인지 여성인지를 판별하여 반환하는 함수를 작성하시오. </strong><br>\n",
        "\n",
        "입력 문자열은 \"주민번호 앞자리 - 뒷자리\"로 구성됨<br>\n",
        "반환 문자열은 \"남성\", \"여성\" 둘중 하나<br>\n",
        "<br>\n",
        "\n",
        "주민번호 뒷자리중 첫번째 숫자가 1이면 남성, 2이면 여성\n",
        "\n",
        "* 예1)<br>\n",
        "\n",
        "  * 입력(문자열) : \"820327-1022421\"<br>\n",
        "  * 반환(문자열) : \"남성\"<br>\n",
        "\n",
        "* 예2)\n",
        "\n",
        " * 입력(문자열) : \"820327-2022421\"<br>\n",
        " * 반환(문자열) : \"여성\"<br>\n",
        "\n",
        "* 함수 이름: exam5\n",
        "(반드시 함수 이름을 exam5로 작성할것!!)\n",
        "\n",
        "* 함수 작성 힌트\n",
        "\n",
        "\n",
        "```\n",
        "\n",
        "def exam5(a):\n",
        "    b = a 주민번호를 판별후 \"남성\", \"여성\" 이라는 문자열 둘 중 하나를 대입 (문자열을 -을 기준으로 split)\n",
        "    return b\n",
        "```\n",
        "\n"
      ]
    },
    {
      "cell_type": "code",
      "metadata": {
        "id": "N1DpVBJmIs_L"
      },
      "source": [
        "### 5번 문제 답안 작성"
      ],
      "execution_count": null,
      "outputs": []
    },
    {
      "cell_type": "markdown",
      "metadata": {
        "id": "R9k6o23RMER4"
      },
      "source": [
        "## 문제 6)"
      ]
    },
    {
      "cell_type": "markdown",
      "metadata": {
        "id": "IQWD9SCNhgHP"
      },
      "source": [
        "<strong>하나의 정수를 함수의 매개변수 입력으로 받아, 이 정수를 제곱한 결과를 반환하는 함수를 작성하시오. </strong><br>\n",
        "\n",
        "\n",
        "\n",
        "* 예1)<br>\n",
        "\n",
        "  * 입력(정수) : 2<br>\n",
        "  * 반환(정수) : 4<br>\n",
        "\n",
        "* 예2)\n",
        "\n",
        " * 입력(정수) : 3<br>\n",
        " * 반환(정수) : 9<br>\n",
        "\n",
        "* 함수 이름: exam6\n",
        "(반드시 함수 이름을 exam6로 작성할것!!)\n",
        "\n",
        "* 함수 작성 힌트\n",
        "\n",
        "\n",
        "```\n",
        "\n",
        "def exam6(a):\n",
        "    b = a를 제곱한 결과\n",
        "    return b\n",
        "```"
      ]
    },
    {
      "cell_type": "code",
      "metadata": {
        "id": "BUjtiJV_iikS"
      },
      "source": [
        "### 6번 문제 답안 작성"
      ],
      "execution_count": null,
      "outputs": []
    },
    {
      "cell_type": "markdown",
      "metadata": {
        "id": "4-41iqJ5W1r1"
      },
      "source": [
        "## 문제 7)"
      ]
    },
    {
      "cell_type": "markdown",
      "metadata": {
        "id": "kqoNGOnfXd1T"
      },
      "source": [
        "\n",
        "<strong>정수로 이루어진 하나의 리스트를 함수의 매개변수 입력으로 받아, 이 리스트 안의 데이터를 오름차순으로 정렬하여 반환하는 함수를 작성하시오 </strong><br>\n",
        "\n",
        "\n",
        "\n",
        "* 예1)<br>\n",
        "\n",
        "  * 입력(리스트) : [10,3,8,7]<br>\n",
        "  * 반환(리스트) : [3,7,8,10]<br>\n",
        "\n",
        "* 예2)<br>\n",
        "\n",
        " * 입력(리스트) : [4,3,2,1]<br>\n",
        " * 반환(리스트) : [1,2,3,4]<br>\n",
        "\n",
        "* 함수 이름: exam7\n",
        "(반드시 함수 이름을 exam7로 작성할것!!)\n",
        "\n",
        "* 함수 작성 힌트\n",
        "\n",
        "\n",
        "```\n",
        "\n",
        "def exam7(a):\n",
        "    b = a 리스트를 오름차순 (리스트 오름차순을 하는 내장함수를 찾아볼것)\n",
        "    return b\n",
        "```"
      ]
    },
    {
      "cell_type": "code",
      "metadata": {
        "id": "4pdCE84Fe9Ce"
      },
      "source": [
        "## 7번 문제 답안 작성"
      ],
      "execution_count": null,
      "outputs": []
    },
    {
      "cell_type": "markdown",
      "metadata": {
        "id": "6gmPtFuZeqIj"
      },
      "source": [
        "## 문제 8"
      ]
    },
    {
      "cell_type": "markdown",
      "metadata": {
        "id": "mNSyCPn-fGBy"
      },
      "source": [
        "<strong>원의 반지름을 함수의 매개변수 입력으로 받아, 원의 넓이를 반환하는 함수를 작성하시오 </strong><br>\n",
        "\n",
        "원의 넓이를 구하는 공식 = 반지름 * 반지름 * 3.14\n",
        "\n",
        "* 예1)<br>\n",
        "\n",
        "  * 입력(정수) : 2<br>\n",
        "  * 반환(실수) : 12.56<br>\n",
        "\n",
        "* 예2)<br>\n",
        "\n",
        " * 입력(정수) : 3<br>\n",
        " * 반환(실수) : 28.26<br>\n",
        "\n",
        "* 함수 이름: exam8\n",
        "(반드시 함수 이름을 exam8로 작성할것!!)\n",
        "\n",
        "* 함수 작성 힌트\n",
        "\n",
        "\n",
        "```\n",
        "\n",
        "def exam8(a):\n",
        "    b = a를 반지름으로 하는 원의 넓이 (반지름 * 반지름 * 3.14)\n",
        "    return b\n",
        "```"
      ]
    },
    {
      "cell_type": "code",
      "metadata": {
        "id": "tFpu6fEehCG6"
      },
      "source": [
        "## 8번 문제 답안 작성\n",
        "\n"
      ],
      "execution_count": null,
      "outputs": []
    },
    {
      "cell_type": "markdown",
      "metadata": {
        "id": "_6nwI88OhsBI"
      },
      "source": [
        "## 문제 9)"
      ]
    },
    {
      "cell_type": "markdown",
      "metadata": {
        "id": "pxTuZRhohj7h"
      },
      "source": [
        "휴대전화 번호를 문자열 형태로 함수의 매개변수로 입력 받으면, 휴대전화 4개의 뒷자리를 ####으로 바꾸어 반환하는 함수를 작성하시오.\n",
        "\n",
        "\n",
        "\n",
        "예1) <br>\n",
        "\n",
        "입력(문자열) : \"010-3222-1234\"<br>\n",
        "반환(문자열) : \"010-3222-####\"<br>\n",
        "\n",
        "예2)<br>\n",
        "\n",
        "입력(문자열) : \"010-1221-0984\"<br>\n",
        "반환(문자열) : \"010-1221-####\"<br>\n",
        "함수 이름: exam9 (반드시 함수 이름을 exam9로 작성할것!!)<br>\n",
        "\n",
        "함수 작성 힌트\n",
        "\n",
        "```\n",
        "\n",
        "def exam9(a):\n",
        "    b = a 문자열을 -을 기준으로 split 하여 맨 뒷자리를 수정할 것\n",
        "    return b\n",
        "```"
      ]
    },
    {
      "cell_type": "code",
      "metadata": {
        "id": "sLhBSwBMleAX"
      },
      "source": [
        "## 9번 문제 답안 작성"
      ],
      "execution_count": null,
      "outputs": []
    },
    {
      "cell_type": "markdown",
      "metadata": {
        "id": "y8wpZYPsli87"
      },
      "source": [
        "## 문제 10)"
      ]
    },
    {
      "cell_type": "markdown",
      "metadata": {
        "id": "-q7Zvh2clp73"
      },
      "source": [
        "<strong>하나의 리스트를 매개변수 입력으로 받아, 리스트안의 데이터의 평균 값을 구해 실수로 반환하는 함수를 작성하시오.</strong>\n",
        "\n",
        "\n",
        "\n",
        "예1) <br>\n",
        "\n",
        "입력(리스트) : [1,2,3,4] <br>\n",
        "반환(실수) : 2.5 <br>\n",
        "\n",
        "예2)<br>\n",
        "\n",
        "입력(리스트) : [2,4,6,8,10] <br>\n",
        "반환(실수) : 6.0 <br>\n",
        "함수 이름: exam10 (반드시 함수 이름을 exam10로 작성할것!!)<br>\n",
        "\n",
        "함수 작성 힌트\n",
        "\n",
        "```\n",
        "\n",
        "def exam10(a):\n",
        "    b = a 리스트의 모든 데이터를 평균한 값\n",
        "    return b\n",
        "```"
      ]
    },
    {
      "cell_type": "code",
      "metadata": {
        "id": "yMcdEi7LlpIF"
      },
      "source": [
        "## 10번 문제 답안 작성"
      ],
      "execution_count": null,
      "outputs": []
    }
  ]
}